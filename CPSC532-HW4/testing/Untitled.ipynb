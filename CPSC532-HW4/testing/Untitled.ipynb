{
 "cells": [
  {
   "cell_type": "code",
   "execution_count": 60,
   "id": "b9d63a72",
   "metadata": {},
   "outputs": [],
   "source": [
    "import torch as tc\n",
    "import itertools\n",
    "from torch import distributions"
   ]
  },
  {
   "cell_type": "code",
   "execution_count": 61,
   "id": "1287c44a",
   "metadata": {},
   "outputs": [],
   "source": [
    "ordered_latent_vars = [\"sample1\", \"sample2\", \"sample3\"]"
   ]
  },
  {
   "cell_type": "code",
   "execution_count": 62,
   "id": "d7b887d9",
   "metadata": {},
   "outputs": [],
   "source": [
    "Q = {x : distributions.Normal(0., 1.) for x in ordered_latent_vars}"
   ]
  },
  {
   "cell_type": "code",
   "execution_count": 67,
   "id": "8391df54",
   "metadata": {},
   "outputs": [],
   "source": [
    "Q_samples = [{x : Q[x].sample() for x in Q.keys()} for i in range(100)]"
   ]
  },
  {
   "cell_type": "code",
   "execution_count": 73,
   "id": "c2a4da53",
   "metadata": {},
   "outputs": [],
   "source": [
    "log_Q = tc.stack([tc.stack([Q[x].log_prob(sample[x]) for x in sample.keys()]).sum() for sample in Q_samples])"
   ]
  },
  {
   "cell_type": "code",
   "execution_count": 84,
   "id": "5a597649",
   "metadata": {},
   "outputs": [
    {
     "data": {
      "text/plain": [
       "True"
      ]
     },
     "execution_count": 84,
     "metadata": {},
     "output_type": "execute_result"
    }
   ],
   "source": [
    "tc.tensor([[1,2],[1,4]]).size() == tc.tensor([[2,4], [9,10]]).size()"
   ]
  },
  {
   "cell_type": "code",
   "execution_count": 32,
   "id": "89ed62f9",
   "metadata": {},
   "outputs": [
    {
     "data": {
      "text/plain": [
       "tensor([-1.4442, -2.0574, -0.9722, -0.9483, -1.1770, -1.2430, -2.0202, -1.2269,\n",
       "        -1.2128, -0.9517])"
      ]
     },
     "execution_count": 32,
     "metadata": {},
     "output_type": "execute_result"
    }
   ],
   "source": [
    "d1.log_prob(sample1)"
   ]
  }
 ],
 "metadata": {
  "kernelspec": {
   "display_name": "Python 3 (ipykernel)",
   "language": "python",
   "name": "python3"
  },
  "language_info": {
   "codemirror_mode": {
    "name": "ipython",
    "version": 3
   },
   "file_extension": ".py",
   "mimetype": "text/x-python",
   "name": "python",
   "nbconvert_exporter": "python",
   "pygments_lexer": "ipython3",
   "version": "3.9.7"
  }
 },
 "nbformat": 4,
 "nbformat_minor": 5
}

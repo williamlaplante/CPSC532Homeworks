{
 "cells": [
  {
   "cell_type": "code",
   "execution_count": 86,
   "id": "b9d63a72",
   "metadata": {},
   "outputs": [],
   "source": [
    "import torch as tc\n",
    "import numpy as np\n",
    "from scipy.stats import dirichlet\n",
    "import itertools\n",
    "from torch import distributions\n",
    "import pickle"
   ]
  },
  {
   "cell_type": "code",
   "execution_count": 88,
   "id": "89fc9696",
   "metadata": {},
   "outputs": [
    {
     "data": {
      "text/plain": [
       "True"
      ]
     },
     "execution_count": 88,
     "metadata": {},
     "output_type": "execute_result"
    }
   ],
   "source": [
    "isinstance(tc.distributions.dirichlet.Dirichlet(tc.ones(3)), tc.distributions.Dirichlet)"
   ]
  },
  {
   "cell_type": "code",
   "execution_count": 85,
   "id": "6b3427cf",
   "metadata": {},
   "outputs": [
    {
     "name": "stdout",
     "output_type": "stream",
     "text": [
      "tensor([2., 2., 2.])\n",
      "tensor(-85.0340)\n",
      "tensor(-0.2251)\n"
     ]
    }
   ],
   "source": [
    "D = tc.distributions.dirichlet.Dirichlet(2*tc.ones(3))\n",
    "print(D.concentration)\n",
    "s = tc.tensor([0.01, 0.01, 0.98])\n",
    "v = tc.tensor([0.33, 0.33, 0.34])\n",
    "print(-1/D.log_prob(s).exp())\n",
    "print(-1/D.log_prob(v).exp())"
   ]
  },
  {
   "cell_type": "code",
   "execution_count": 71,
   "id": "d7335371",
   "metadata": {},
   "outputs": [
    {
     "data": {
      "text/plain": [
       "2.0"
      ]
     },
     "execution_count": 71,
     "metadata": {},
     "output_type": "execute_result"
    }
   ],
   "source": [
    "quantiles = np.array([0.2, 0.2, 0.6])  # specify quantiles\n",
    "alpha = np.ones(3)  # specify concentration parameters\n",
    "dirichlet.pdf(quantiles, alpha)"
   ]
  },
  {
   "cell_type": "code",
   "execution_count": 61,
   "id": "1287c44a",
   "metadata": {},
   "outputs": [],
   "source": [
    "ordered_latent_vars = [\"sample1\", \"sample2\", \"sample3\"]"
   ]
  },
  {
   "cell_type": "code",
   "execution_count": 62,
   "id": "d7b887d9",
   "metadata": {},
   "outputs": [],
   "source": [
    "Q = {x : distributions.Normal(0., 1.) for x in ordered_latent_vars}"
   ]
  },
  {
   "cell_type": "code",
   "execution_count": 67,
   "id": "8391df54",
   "metadata": {},
   "outputs": [],
   "source": [
    "Q_samples = [{x : Q[x].sample() for x in Q.keys()} for i in range(100)]"
   ]
  },
  {
   "cell_type": "code",
   "execution_count": 73,
   "id": "c2a4da53",
   "metadata": {},
   "outputs": [],
   "source": [
    "log_Q = tc.stack([tc.stack([Q[x].log_prob(sample[x]) for x in sample.keys()]).sum() for sample in Q_samples])"
   ]
  },
  {
   "cell_type": "code",
   "execution_count": 84,
   "id": "5a597649",
   "metadata": {},
   "outputs": [
    {
     "data": {
      "text/plain": [
       "True"
      ]
     },
     "execution_count": 84,
     "metadata": {},
     "output_type": "execute_result"
    }
   ],
   "source": [
    "tc.tensor([[1,2],[1,4]]).size() == tc.tensor([[2,4], [9,10]]).size()"
   ]
  },
  {
   "cell_type": "code",
   "execution_count": 89,
   "id": "89ed62f9",
   "metadata": {},
   "outputs": [],
   "source": [
    "dictionary = {\"sample1\": tc.distributions.Normal(tc.tensor(0.), tc.tensor(1.))}\n",
    "\n",
    "with open('./saved_dictionary.pkl', 'wb') as f:\n",
    "    pickle.dump(dictionary, f)\n",
    "        \n",
    "with open('./saved_dictionary.pkl', 'rb') as f:\n",
    "    loaded_dict = pickle.load(f)\n",
    "\n"
   ]
  },
  {
   "cell_type": "code",
   "execution_count": 93,
   "id": "7b6ee16a",
   "metadata": {},
   "outputs": [
    {
     "data": {
      "text/plain": [
       "tensor(0.3453)"
      ]
     },
     "execution_count": 93,
     "metadata": {},
     "output_type": "execute_result"
    }
   ],
   "source": [
    "loaded_dict[\"sample1\"].sample()"
   ]
  },
  {
   "cell_type": "code",
   "execution_count": 95,
   "id": "4173f555",
   "metadata": {},
   "outputs": [
    {
     "data": {
      "text/plain": [
       "tensor(3.0674)"
      ]
     },
     "execution_count": 95,
     "metadata": {},
     "output_type": "execute_result"
    }
   ],
   "source": [
    "tc.distributions.Normal(tc.tensor(-0.09), tc.tensor(0.01476)).log_prob(tc.tensor(-0.1))"
   ]
  },
  {
   "cell_type": "code",
   "execution_count": null,
   "id": "662cf3ae",
   "metadata": {},
   "outputs": [],
   "source": []
  }
 ],
 "metadata": {
  "kernelspec": {
   "display_name": "Python 3 (ipykernel)",
   "language": "python",
   "name": "python3"
  },
  "language_info": {
   "codemirror_mode": {
    "name": "ipython",
    "version": 3
   },
   "file_extension": ".py",
   "mimetype": "text/x-python",
   "name": "python",
   "nbconvert_exporter": "python",
   "pygments_lexer": "ipython3",
   "version": "3.9.7"
  }
 },
 "nbformat": 4,
 "nbformat_minor": 5
}

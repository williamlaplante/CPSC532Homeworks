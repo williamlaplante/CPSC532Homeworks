{
 "cells": [
  {
   "cell_type": "code",
   "execution_count": 1,
   "id": "b0f19904",
   "metadata": {},
   "outputs": [],
   "source": [
    "import torch\n",
    "import torch.distributions as dist"
   ]
  },
  {
   "cell_type": "code",
   "execution_count": 68,
   "id": "c2b85842",
   "metadata": {},
   "outputs": [
    {
     "ename": "ModuleNotFoundError",
     "evalue": "No module named 'hydra'",
     "output_type": "error",
     "traceback": [
      "\u001b[0;31m---------------------------------------------------------------------------\u001b[0m",
      "\u001b[0;31mModuleNotFoundError\u001b[0m                       Traceback (most recent call last)",
      "\u001b[0;32m/var/folders/s9/601byg7d6k37h1v29q7mx5hh0000gn/T/ipykernel_7411/3903153965.py\u001b[0m in \u001b[0;36m<module>\u001b[0;34m\u001b[0m\n\u001b[0;32m----> 1\u001b[0;31m \u001b[0;32mimport\u001b[0m \u001b[0mhydra\u001b[0m\u001b[0;34m\u001b[0m\u001b[0;34m\u001b[0m\u001b[0m\n\u001b[0m",
      "\u001b[0;31mModuleNotFoundError\u001b[0m: No module named 'hydra'"
     ]
    }
   ],
   "source": [
    "import hydra"
   ]
  },
  {
   "cell_type": "code",
   "execution_count": 2,
   "id": "e80e55a4",
   "metadata": {},
   "outputs": [],
   "source": [
    "def P_C(c : torch.Tensor) -> torch.Tensor:\n",
    "    probs = torch.Tensor([0.5, 0.5])\n",
    "    d = dist.Categorical(probs)\n",
    "    return torch.exp(d.log_prob(c))\n",
    "\n",
    "def P_S_given_C(s : torch.Tensor, c : torch.Tensor) -> torch.Tensor:\n",
    "    probs = torch.tensor([[0.5, 0.5], [0.9,0.1]])\n",
    "    d = dist.Categorical(probs)\n",
    "    \n",
    "    return torch.exp(d.log_prob(s))[c.detach()]\n",
    "\n",
    "def P_R_given_C(r : torch.Tensor, c : torch.Tensor) -> torch.Tensor:\n",
    "    probs = torch.tensor([[0.8, 0.2], [0.2, 0.8]])\n",
    "    d = dist.Categorical(probs)\n",
    "    return torch.exp(d.log_prob(r)[c.detach()])\n",
    "\n",
    "def P_W_given_S_R(w : torch.Tensor, s:torch.Tensor, r : torch.Tensor) -> torch.Tensor:\n",
    "    probs = torch.tensor([ [[1.0, 0.1], [0.1, 0.01]], [[0.0, 0.9], [0.9, 0.99]] ])\n",
    "    return probs[w.detach(), s.detach(), r.detach()]"
   ]
  },
  {
   "cell_type": "code",
   "execution_count": 3,
   "id": "ea376006",
   "metadata": {},
   "outputs": [],
   "source": [
    "#compute joint\n",
    "p = torch.zeros((2,2,2,2)) #c, s, r, w\n",
    "for c in range(2):\n",
    "    for s in range(2):\n",
    "        for r in range(2):\n",
    "            for w in range(2):\n",
    "                p[c, s, r, w] = P_C(torch.tensor(c)) * \\\n",
    "                P_R_given_C(torch.tensor(r), torch.tensor(c)) * \\\n",
    "                P_S_given_C(torch.tensor(s), torch.tensor(c)) * \\\n",
    "                P_W_given_S_R(torch.tensor(w), torch.tensor(s), torch.tensor(r))\n",
    "                \n",
    "                "
   ]
  },
  {
   "cell_type": "code",
   "execution_count": 4,
   "id": "663ccfd5",
   "metadata": {},
   "outputs": [
    {
     "data": {
      "text/plain": [
       "tensor(0.5758)"
      ]
     },
     "execution_count": 4,
     "metadata": {},
     "output_type": "execute_result"
    }
   ],
   "source": [
    "#compute P_C=1_given_W=1 \n",
    "(p[:,:,:,1].sum(axis=[1,2])/p[:,:,:,1].sum(axis=[0,1,2]))[1]"
   ]
  },
  {
   "cell_type": "code",
   "execution_count": 73,
   "id": "7f85cb0d",
   "metadata": {},
   "outputs": [],
   "source": [
    "#ancestral and rejection sampling\n",
    "\n",
    "num_samples = 10000\n",
    "samples = torch.zeros(num_samples) #P(C, W)\n",
    "rejections = 0 #to compute P(W)\n",
    "i = 0\n",
    "\n",
    "# NOTE: Fill this in\n",
    "\n",
    "while i < num_samples:\n",
    "            \n",
    "    c = dist.Categorical(torch.tensor([0.5,0.5])).sample().item() #p(c)\n",
    "\n",
    "    if c==0:\n",
    "        r = dist.Categorical(torch.tensor([0.8, 0.2])).sample().item() #p(r|c=0)\n",
    "        s = dist.Categorical(torch.tensor([0.5, 0.5])).sample().item() #p(s|c=0)\n",
    "        \n",
    "    elif c==1:\n",
    "        r = dist.Categorical(torch.tensor([0.2, 0.8])).sample().item() #p(r|c=1)\n",
    "        s = dist.Categorical(torch.tensor([0.9, 0.1])).sample().item() #p(s|c=1)\n",
    "\n",
    "\n",
    "    if r+s==1:\n",
    "        w = dist.Categorical(torch.tensor([0.1, 0.9])).sample().item() #p(w|r+s=1)\n",
    "\n",
    "    elif r+s==2:\n",
    "        w = dist.Categorical(torch.tensor([0.01, 0.99])).sample().item() #p(w|r+s=2)\n",
    "\n",
    "    else:\n",
    "        w=0\n",
    "    \n",
    "    if w==0:\n",
    "        rejections+=1\n",
    "        continue\n",
    "    \n",
    "    if w==1 & c==1:\n",
    "        samples[i]=1\n",
    "    \n",
    "    i+=1"
   ]
  },
  {
   "cell_type": "code",
   "execution_count": 74,
   "id": "647c071e",
   "metadata": {},
   "outputs": [
    {
     "data": {
      "text/plain": [
       "tensor(0.5736)"
      ]
     },
     "execution_count": 74,
     "metadata": {},
     "output_type": "execute_result"
    }
   ],
   "source": [
    "samples.mean()"
   ]
  },
  {
   "cell_type": "code",
   "execution_count": 179,
   "id": "3a3244e2",
   "metadata": {},
   "outputs": [
    {
     "data": {
      "text/plain": [
       "5355"
      ]
     },
     "execution_count": 179,
     "metadata": {},
     "output_type": "execute_result"
    }
   ],
   "source": [
    "rejections"
   ]
  },
  {
   "cell_type": "code",
   "execution_count": 6,
   "id": "22f089e4",
   "metadata": {},
   "outputs": [],
   "source": [
    "p_R_given_C_S_W = p/p.sum(axis=2, keepdims=True)\n",
    "p_S_given_C_R_W = p/p.sum(axis=1, keepdims=True)\n",
    "\n",
    "p_C_S_R = torch.zeros((2,2,2)) #c,s,r\n",
    "for c in range(2):\n",
    "    for s in range(2):\n",
    "        for r in range(2):\n",
    "            p_C_S_R[c, s, r] = P_C(torch.tensor(c).int())*P_S_given_C(torch.tensor(s).int(), torch.tensor(c).int())*P_R_given_C(torch.tensor(r).int(), torch.tensor(c).int())\n",
    "\n",
    "#then create the conditional distribution:\n",
    "p_C_given_S_R = p_C_S_R[:,:,:]/p_C_S_R[:,:,:].sum(axis=(0),keepdims=True)"
   ]
  },
  {
   "cell_type": "code",
   "execution_count": 69,
   "id": "cbb6047b",
   "metadata": {},
   "outputs": [],
   "source": [
    "##Gibbs sampling\n",
    "num_samples = 11000\n",
    "samples = torch.zeros(num_samples)\n",
    "state = torch.zeros(4) #c, s, r, w\n",
    "state[3] = 1 #set w = True\n",
    "\n",
    "# NOTE: Fill this in\n",
    "i=0\n",
    "while i < num_samples:\n",
    "    c,s,r,w = state.int().numpy()\n",
    "    \n",
    "    r = dist.Categorical(p_R_given_C_S_W[c,s,:,w]).sample().item()\n",
    "    s = dist.Categorical(p_S_given_C_R_W[c,:,r,w]).sample().item()\n",
    "    c = dist.Categorical(p_C_given_S_R[:,s,r]).sample().item()\n",
    "    \n",
    "    if c==1:\n",
    "        samples[i]=1\n",
    "    \n",
    "    state[0] = c\n",
    "    state[1] = s\n",
    "    state[2] = r\n",
    "\n",
    "    i+=1\n",
    "    \n"
   ]
  },
  {
   "cell_type": "code",
   "execution_count": 70,
   "id": "8ee510d9",
   "metadata": {},
   "outputs": [
    {
     "data": {
      "text/plain": [
       "tensor(0.5814)"
      ]
     },
     "execution_count": 70,
     "metadata": {},
     "output_type": "execute_result"
    }
   ],
   "source": [
    "samples.mean()"
   ]
  },
  {
   "cell_type": "code",
   "execution_count": 67,
   "id": "59a5ecb2",
   "metadata": {},
   "outputs": [
    {
     "data": {
      "text/plain": [
       "0.32399997115135193"
      ]
     },
     "execution_count": 67,
     "metadata": {},
     "output_type": "execute_result"
    }
   ],
   "source": [
    "p[c,s,r,w].item()"
   ]
  },
  {
   "cell_type": "code",
   "execution_count": null,
   "id": "a4f38a79",
   "metadata": {},
   "outputs": [],
   "source": []
  }
 ],
 "metadata": {
  "kernelspec": {
   "display_name": "Python 3 (ipykernel)",
   "language": "python",
   "name": "python3"
  },
  "language_info": {
   "codemirror_mode": {
    "name": "ipython",
    "version": 3
   },
   "file_extension": ".py",
   "mimetype": "text/x-python",
   "name": "python",
   "nbconvert_exporter": "python",
   "pygments_lexer": "ipython3",
   "version": "3.9.7"
  }
 },
 "nbformat": 4,
 "nbformat_minor": 5
}
